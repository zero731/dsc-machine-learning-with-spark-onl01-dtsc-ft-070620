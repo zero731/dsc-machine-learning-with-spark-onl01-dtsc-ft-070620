{
 "cells": [
  {
   "cell_type": "markdown",
   "metadata": {},
   "source": [
    "# Machine Learning with Spark\n",
    "\n",
    "## Introduction\n",
    "\n",
    "You've now explored how to perform operations on Spark RDDs for simple MapReduce tasks. Luckily, there are far more advanced use cases for Spark, and many of them are found in the `ml` library, which we are going to explore in this lesson.\n",
    "\n",
    "\n",
    "## Objectives\n",
    "\n",
    "You will be able to: \n",
    "\n",
    "- Load and manipulate data using Spark DataFrames  \n",
    "- Define estimators and transformers in Spark ML \n",
    "- Create a Spark ML pipeline that transforms data and runs over a grid of hyperparameters \n",
    "\n",
    "\n",
    "\n",
    "## A Tale of Two Libraries\n",
    "\n",
    "If you look at the PySpark documentation, you'll notice that there are two different libraries for machine learning, [mllib](https://spark.apache.org/docs/latest/api/python/pyspark.mllib.html) and [ml](https://spark.apache.org/docs/latest/api/python/pyspark.ml.html). These libraries are extremely similar to one another, the only difference being that the `mllib` library is built upon the RDDs you just practiced using; whereas, the `ml` library is built on higher level Spark DataFrames, which has methods and attributes similar to pandas. Spark has stated that in the future, it is going to devote more effort to the `ml` library and that `mllib` will become deprecated. It's important to note that these libraries are much younger than pandas and scikit-learn and there are not as many features present in either.\n",
    "\n",
    "## Spark DataFrames\n",
    "\n",
    "In the previous lessons, you were introduced to SparkContext as the primary way to connect with a Spark Application. Here, we will be using SparkSession, which is from the [sql](https://spark.apache.org/docs/latest/api/python/pyspark.sql.html) component of PySpark. The SparkSession acts the same way as SparkContext; it is a bridge between Python and the Spark Application. It's just built on top of the Spark SQL API, a higher-level API than RDDs. In fact, a SparkContext object is spun up around which the SparkSession object is wrapped. Let's go through the process of manipulating some data here. For this example, we're going to be using the [Forest Fire dataset](https://archive.ics.uci.edu/ml/datasets/Forest+Fires) from UCI, which contains data about the area burned by wildfires in the Northeast region of Portugal in relation to numerous other factors.\n",
    "\n",
    "To begin with, let's create a SparkSession so that we can spin up our spark application. "
   ]
  },
  {
   "cell_type": "code",
   "execution_count": 1,
   "metadata": {},
   "outputs": [],
   "source": [
    "# importing the necessary libraries\n",
    "from pyspark import SparkContext\n",
    "from pyspark.sql import SparkSession\n",
    "# sc = SparkContext('local[*]')\n",
    "# spark = SparkSession(sc)"
   ]
  },
  {
   "cell_type": "markdown",
   "metadata": {},
   "source": [
    "To create a SparkSession: "
   ]
  },
  {
   "cell_type": "code",
   "execution_count": 2,
   "metadata": {},
   "outputs": [],
   "source": [
    "spark = SparkSession.builder.master('local').getOrCreate()"
   ]
  },
  {
   "cell_type": "markdown",
   "metadata": {},
   "source": [
    "Now, we'll load the data into a PySpark DataFrame: "
   ]
  },
  {
   "cell_type": "code",
   "execution_count": 3,
   "metadata": {},
   "outputs": [
    {
     "data": {
      "text/plain": [
       "pyspark.sql.dataframe.DataFrame"
      ]
     },
     "execution_count": 3,
     "metadata": {},
     "output_type": "execute_result"
    }
   ],
   "source": [
    "## reading in pyspark df\n",
    "spark_df = spark.read.csv('./forestfires.csv', header='true', inferSchema='true')\n",
    "\n",
    "## observing the datatype of df\n",
    "type(spark_df)"
   ]
  },
  {
   "cell_type": "markdown",
   "metadata": {},
   "source": [
    "You'll notice that some of the methods are extremely similar or the same as those found within Pandas."
   ]
  },
  {
   "cell_type": "code",
   "execution_count": 5,
   "metadata": {},
   "outputs": [],
   "source": [
    "import pandas as pd"
   ]
  },
  {
   "cell_type": "code",
   "execution_count": 15,
   "metadata": {},
   "outputs": [
    {
     "data": {
      "text/html": [
       "<div>\n",
       "<style scoped>\n",
       "    .dataframe tbody tr th:only-of-type {\n",
       "        vertical-align: middle;\n",
       "    }\n",
       "\n",
       "    .dataframe tbody tr th {\n",
       "        vertical-align: top;\n",
       "    }\n",
       "\n",
       "    .dataframe thead th {\n",
       "        text-align: right;\n",
       "    }\n",
       "</style>\n",
       "<table border=\"1\" class=\"dataframe\">\n",
       "  <thead>\n",
       "    <tr style=\"text-align: right;\">\n",
       "      <th></th>\n",
       "      <th>X</th>\n",
       "      <th>Y</th>\n",
       "      <th>month</th>\n",
       "      <th>day</th>\n",
       "      <th>FFMC</th>\n",
       "      <th>DMC</th>\n",
       "      <th>DC</th>\n",
       "      <th>ISI</th>\n",
       "      <th>temp</th>\n",
       "      <th>RH</th>\n",
       "      <th>wind</th>\n",
       "      <th>rain</th>\n",
       "      <th>area</th>\n",
       "    </tr>\n",
       "  </thead>\n",
       "  <tbody>\n",
       "    <tr>\n",
       "      <th>0</th>\n",
       "      <td>7</td>\n",
       "      <td>5</td>\n",
       "      <td>mar</td>\n",
       "      <td>fri</td>\n",
       "      <td>86.2</td>\n",
       "      <td>26.2</td>\n",
       "      <td>94.3</td>\n",
       "      <td>5.1</td>\n",
       "      <td>8.2</td>\n",
       "      <td>51</td>\n",
       "      <td>6.7</td>\n",
       "      <td>0.0</td>\n",
       "      <td>0.0</td>\n",
       "    </tr>\n",
       "    <tr>\n",
       "      <th>1</th>\n",
       "      <td>7</td>\n",
       "      <td>4</td>\n",
       "      <td>oct</td>\n",
       "      <td>tue</td>\n",
       "      <td>90.6</td>\n",
       "      <td>35.4</td>\n",
       "      <td>669.1</td>\n",
       "      <td>6.7</td>\n",
       "      <td>18.0</td>\n",
       "      <td>33</td>\n",
       "      <td>0.9</td>\n",
       "      <td>0.0</td>\n",
       "      <td>0.0</td>\n",
       "    </tr>\n",
       "    <tr>\n",
       "      <th>2</th>\n",
       "      <td>7</td>\n",
       "      <td>4</td>\n",
       "      <td>oct</td>\n",
       "      <td>sat</td>\n",
       "      <td>90.6</td>\n",
       "      <td>43.7</td>\n",
       "      <td>686.9</td>\n",
       "      <td>6.7</td>\n",
       "      <td>14.6</td>\n",
       "      <td>33</td>\n",
       "      <td>1.3</td>\n",
       "      <td>0.0</td>\n",
       "      <td>0.0</td>\n",
       "    </tr>\n",
       "    <tr>\n",
       "      <th>3</th>\n",
       "      <td>8</td>\n",
       "      <td>6</td>\n",
       "      <td>mar</td>\n",
       "      <td>fri</td>\n",
       "      <td>91.7</td>\n",
       "      <td>33.3</td>\n",
       "      <td>77.5</td>\n",
       "      <td>9.0</td>\n",
       "      <td>8.3</td>\n",
       "      <td>97</td>\n",
       "      <td>4.0</td>\n",
       "      <td>0.2</td>\n",
       "      <td>0.0</td>\n",
       "    </tr>\n",
       "    <tr>\n",
       "      <th>4</th>\n",
       "      <td>8</td>\n",
       "      <td>6</td>\n",
       "      <td>mar</td>\n",
       "      <td>sun</td>\n",
       "      <td>89.3</td>\n",
       "      <td>51.3</td>\n",
       "      <td>102.2</td>\n",
       "      <td>9.6</td>\n",
       "      <td>11.4</td>\n",
       "      <td>99</td>\n",
       "      <td>1.8</td>\n",
       "      <td>0.0</td>\n",
       "      <td>0.0</td>\n",
       "    </tr>\n",
       "  </tbody>\n",
       "</table>\n",
       "</div>"
      ],
      "text/plain": [
       "   X  Y month  day  FFMC   DMC     DC  ISI  temp  RH  wind  rain  area\n",
       "0  7  5   mar  fri  86.2  26.2   94.3  5.1   8.2  51   6.7   0.0   0.0\n",
       "1  7  4   oct  tue  90.6  35.4  669.1  6.7  18.0  33   0.9   0.0   0.0\n",
       "2  7  4   oct  sat  90.6  43.7  686.9  6.7  14.6  33   1.3   0.0   0.0\n",
       "3  8  6   mar  fri  91.7  33.3   77.5  9.0   8.3  97   4.0   0.2   0.0\n",
       "4  8  6   mar  sun  89.3  51.3  102.2  9.6  11.4  99   1.8   0.0   0.0"
      ]
     },
     "execution_count": 15,
     "metadata": {},
     "output_type": "execute_result"
    }
   ],
   "source": [
    "spark_df.limit(5).toPandas()"
   ]
  },
  {
   "cell_type": "code",
   "execution_count": 8,
   "metadata": {
    "scrolled": false
   },
   "outputs": [
    {
     "data": {
      "text/plain": [
       "Row(X=7, Y=5, month='mar', day='fri', FFMC=86.2, DMC=26.2, DC=94.3, ISI=5.1, temp=8.2, RH=51, wind=6.7, rain=0.0, area=0.0)"
      ]
     },
     "execution_count": 8,
     "metadata": {},
     "output_type": "execute_result"
    }
   ],
   "source": [
    "spark_df.head()"
   ]
  },
  {
   "cell_type": "code",
   "execution_count": 9,
   "metadata": {},
   "outputs": [
    {
     "data": {
      "text/plain": [
       "['X',\n",
       " 'Y',\n",
       " 'month',\n",
       " 'day',\n",
       " 'FFMC',\n",
       " 'DMC',\n",
       " 'DC',\n",
       " 'ISI',\n",
       " 'temp',\n",
       " 'RH',\n",
       " 'wind',\n",
       " 'rain',\n",
       " 'area']"
      ]
     },
     "execution_count": 9,
     "metadata": {},
     "output_type": "execute_result"
    }
   ],
   "source": [
    "spark_df.columns"
   ]
  },
  {
   "cell_type": "markdown",
   "metadata": {},
   "source": [
    "Selecting multiple columns is similar as well: "
   ]
  },
  {
   "cell_type": "code",
   "execution_count": 10,
   "metadata": {},
   "outputs": [
    {
     "data": {
      "text/plain": [
       "DataFrame[month: string, day: string, rain: double]"
      ]
     },
     "execution_count": 10,
     "metadata": {},
     "output_type": "execute_result"
    }
   ],
   "source": [
    "spark_df[['month','day','rain']]"
   ]
  },
  {
   "cell_type": "markdown",
   "metadata": {},
   "source": [
    "But selecting one column is different. If you want to maintain the methods of a spark DataFrame, you should use the `.select()` method. If you want to just select the column, you can use the same method you would use in pandas (this is primarily what you would use if you're attempting to create a boolean mask). "
   ]
  },
  {
   "cell_type": "code",
   "execution_count": 11,
   "metadata": {
    "scrolled": true
   },
   "outputs": [],
   "source": [
    "d = spark_df.select('rain')"
   ]
  },
  {
   "cell_type": "code",
   "execution_count": 12,
   "metadata": {},
   "outputs": [
    {
     "data": {
      "text/plain": [
       "Column<b'rain'>"
      ]
     },
     "execution_count": 12,
     "metadata": {},
     "output_type": "execute_result"
    }
   ],
   "source": [
    "spark_df['rain']"
   ]
  },
  {
   "cell_type": "markdown",
   "metadata": {},
   "source": [
    "Let's take a look at all of our data types in this dataframe"
   ]
  },
  {
   "cell_type": "code",
   "execution_count": 13,
   "metadata": {},
   "outputs": [
    {
     "data": {
      "text/plain": [
       "[('X', 'int'),\n",
       " ('Y', 'int'),\n",
       " ('month', 'string'),\n",
       " ('day', 'string'),\n",
       " ('FFMC', 'double'),\n",
       " ('DMC', 'double'),\n",
       " ('DC', 'double'),\n",
       " ('ISI', 'double'),\n",
       " ('temp', 'double'),\n",
       " ('RH', 'int'),\n",
       " ('wind', 'double'),\n",
       " ('rain', 'double'),\n",
       " ('area', 'double')]"
      ]
     },
     "execution_count": 13,
     "metadata": {},
     "output_type": "execute_result"
    }
   ],
   "source": [
    "spark_df.dtypes"
   ]
  },
  {
   "cell_type": "markdown",
   "metadata": {},
   "source": [
    "## Aggregations with our DataFrame"
   ]
  },
  {
   "cell_type": "markdown",
   "metadata": {},
   "source": [
    "Let's investigate to see if there is any correlation between what month it is and the area of fire: "
   ]
  },
  {
   "cell_type": "code",
   "execution_count": 16,
   "metadata": {},
   "outputs": [
    {
     "data": {
      "text/plain": [
       "DataFrame[month: string, avg(area): double]"
      ]
     },
     "execution_count": 16,
     "metadata": {},
     "output_type": "execute_result"
    }
   ],
   "source": [
    "spark_df_months = spark_df.groupBy('month').agg({'area': 'mean'})\n",
    "spark_df_months"
   ]
  },
  {
   "cell_type": "markdown",
   "metadata": {},
   "source": [
    "Notice how the grouped DataFrame is not returned when you call the aggregation method. Remember, this is still Spark! The transformations and actions are kept separate so that it is easier to manage large quantities of data. You can perform the transformation by calling `.collect()`: "
   ]
  },
  {
   "cell_type": "code",
   "execution_count": 19,
   "metadata": {},
   "outputs": [
    {
     "data": {
      "text/plain": [
       "[Row(month='jun', avg(area)=5.841176470588234),\n",
       " Row(month='aug', avg(area)=12.489076086956521),\n",
       " Row(month='may', avg(area)=19.24),\n",
       " Row(month='feb', avg(area)=6.275),\n",
       " Row(month='sep', avg(area)=17.942616279069753),\n",
       " Row(month='mar', avg(area)=4.356666666666667),\n",
       " Row(month='oct', avg(area)=6.638),\n",
       " Row(month='jul', avg(area)=14.3696875),\n",
       " Row(month='nov', avg(area)=0.0),\n",
       " Row(month='apr', avg(area)=8.891111111111112),\n",
       " Row(month='dec', avg(area)=13.33),\n",
       " Row(month='jan', avg(area)=0.0)]"
      ]
     },
     "execution_count": 19,
     "metadata": {},
     "output_type": "execute_result"
    }
   ],
   "source": [
    "spark_df_months.collect()"
   ]
  },
  {
   "cell_type": "markdown",
   "metadata": {},
   "source": [
    "As you can see, there seem to be larger area fires during what would be considered the summer months in Portugal. On your own, practice more aggregations and manipulations that you might be able to perform on this dataset. "
   ]
  },
  {
   "cell_type": "code",
   "execution_count": 22,
   "metadata": {},
   "outputs": [
    {
     "data": {
      "text/plain": [
       "[Row(month='jun', avg(rain)=0.0),\n",
       " Row(month='aug', avg(rain)=0.05869565217391306),\n",
       " Row(month='may', avg(rain)=0.0),\n",
       " Row(month='feb', avg(rain)=0.0),\n",
       " Row(month='sep', avg(rain)=0.0),\n",
       " Row(month='mar', avg(rain)=0.003703703703703704),\n",
       " Row(month='oct', avg(rain)=0.0),\n",
       " Row(month='jul', avg(rain)=0.00625),\n",
       " Row(month='nov', avg(rain)=0.0),\n",
       " Row(month='apr', avg(rain)=0.0),\n",
       " Row(month='dec', avg(rain)=0.0),\n",
       " Row(month='jan', avg(rain)=0.0)]"
      ]
     },
     "execution_count": 22,
     "metadata": {},
     "output_type": "execute_result"
    }
   ],
   "source": [
    "spark_df_months = spark_df.groupBy('month').agg({'rain': 'mean'})\n",
    "spark_df_months.collect()"
   ]
  },
  {
   "cell_type": "markdown",
   "metadata": {},
   "source": [
    "## Boolean Masking \n",
    "\n",
    "Boolean masking also works with PySpark DataFrames just like Pandas DataFrames, the only difference being that the `.filter()` method is used in PySpark. To try this out, let's compare the amount of fire in those areas with absolutely no rain to those areas that had rain."
   ]
  },
  {
   "cell_type": "code",
   "execution_count": 23,
   "metadata": {},
   "outputs": [],
   "source": [
    "no_rain = spark_df.filter(spark_df['rain'] == 0.0)\n",
    "some_rain = spark_df.filter(spark_df['rain'] > 0.0)"
   ]
  },
  {
   "cell_type": "markdown",
   "metadata": {},
   "source": [
    "Now, to perform calculations to find the mean of a column, we'll have to import functions from `pyspark.sql`. As always, to read more about them, check out the [documentation](https://spark.apache.org/docs/latest/api/python/pyspark.sql.html#module-pyspark.sql.functions)."
   ]
  },
  {
   "cell_type": "code",
   "execution_count": 24,
   "metadata": {},
   "outputs": [
    {
     "name": "stdout",
     "output_type": "stream",
     "text": [
      "+------------------+\n",
      "|         avg(area)|\n",
      "+------------------+\n",
      "|13.023693516699408|\n",
      "+------------------+\n",
      "\n",
      "no rain fire area:  None \n",
      "\n",
      "+---------+\n",
      "|avg(area)|\n",
      "+---------+\n",
      "|  1.62375|\n",
      "+---------+\n",
      "\n",
      "some rain fire area:  None \n",
      "\n"
     ]
    }
   ],
   "source": [
    "from pyspark.sql.functions import mean\n",
    "\n",
    "print('no rain fire area: ', no_rain.select(mean('area')).show(),'\\n')\n",
    "\n",
    "print('some rain fire area: ', some_rain.select(mean('area')).show(),'\\n')"
   ]
  },
  {
   "cell_type": "markdown",
   "metadata": {},
   "source": [
    "Yes there's definitely something there! Unsurprisingly, rain plays in a big factor in the spread of wildfire.\n",
    "\n",
    "Let's obtain data from only the summer months in Portugal (June, July, and August). We can also do the same for the winter months in Portugal (December, January, February)."
   ]
  },
  {
   "cell_type": "code",
   "execution_count": 25,
   "metadata": {},
   "outputs": [
    {
     "name": "stdout",
     "output_type": "stream",
     "text": [
      "+------------------+\n",
      "|         avg(area)|\n",
      "+------------------+\n",
      "|12.262317596566525|\n",
      "+------------------+\n",
      "\n",
      "summer months fire area None\n",
      "+-----------------+\n",
      "|        avg(area)|\n",
      "+-----------------+\n",
      "|7.918387096774193|\n",
      "+-----------------+\n",
      "\n",
      "winter months fire areas None\n"
     ]
    }
   ],
   "source": [
    "summer_months = spark_df.filter(spark_df['month'].isin(['jun','jul','aug']))\n",
    "winter_months = spark_df.filter(spark_df['month'].isin(['dec','jan','feb']))\n",
    "\n",
    "print('summer months fire area', summer_months.select(mean('area')).show())\n",
    "print('winter months fire areas', winter_months.select(mean('area')).show())"
   ]
  },
  {
   "cell_type": "markdown",
   "metadata": {},
   "source": [
    "## Machine Learning\n",
    "\n",
    "Now that we've performed some data manipulation and aggregation, lets get to the really cool stuff, machine learning! PySpark states that they've used scikit-learn as an inspiration for their implementation of a machine learning library. As a result, many of the methods and functionalities look similar, but there are some crucial distinctions. There are three main concepts found within the ML library:\n",
    "\n",
    "`Transformer`: An algorithm that transforms one PySpark DataFrame into another DataFrame. \n",
    "\n",
    "`Estimator`: An algorithm that can be fit onto a PySpark DataFrame that can then be used as a Transformer. \n",
    "\n",
    "`Pipeline`: A pipeline very similar to an `sklearn` pipeline that chains together different actions.\n",
    "\n",
    "The reasoning behind this separation of the fitting and transforming step is because Spark is lazily evaluated, so the 'fitting' of a model does not actually take place until the Transformation action is called. Let's examine what this actually looks like by performing a regression on the Forest Fire dataset. To start off with, we'll import the necessary libraries for our tasks."
   ]
  },
  {
   "cell_type": "code",
   "execution_count": 27,
   "metadata": {},
   "outputs": [],
   "source": [
    "from pyspark.ml.regression import RandomForestRegressor\n",
    "from pyspark.ml import feature\n",
    "from pyspark.ml.feature import StringIndexer, VectorAssembler, OneHotEncoder"
   ]
  },
  {
   "cell_type": "markdown",
   "metadata": {},
   "source": [
    "Looking at our data, one can see that all the categories are numerical except for day and month. We saw some correlation between the month and area burned in a fire, so we will include that in our model. The day of the week, however, is highly unlikely to have any effect on fire, so we will drop it from the DataFrame."
   ]
  },
  {
   "cell_type": "code",
   "execution_count": 28,
   "metadata": {},
   "outputs": [
    {
     "data": {
      "text/plain": [
       "Row(X=7, Y=5, month='mar', FFMC=86.2, DMC=26.2, DC=94.3, ISI=5.1, temp=8.2, RH=51, wind=6.7, rain=0.0, area=0.0)"
      ]
     },
     "execution_count": 28,
     "metadata": {},
     "output_type": "execute_result"
    }
   ],
   "source": [
    "fire_df = spark_df.drop('day')\n",
    "fire_df.head()"
   ]
  },
  {
   "cell_type": "markdown",
   "metadata": {},
   "source": [
    "In order for us to run our model, we need to turn the months variable into a dummy variable. In `ml` this is a 2-step process that first requires turning the categorical variable into a numerical index (`StringIndexer`). Only after the variable is an integer can PySpark create dummy variable columns related to each category (`OneHotEncoderEstimator`). Your key parameters when using these `ml` estimators are: `inputCol` (the column you want to change) and `outputCol` (where you will store the changed column). Here it is in action: "
   ]
  },
  {
   "cell_type": "code",
   "execution_count": 29,
   "metadata": {},
   "outputs": [],
   "source": [
    "si = StringIndexer(inputCol='month', outputCol='month_num')\n",
    "model = si.fit(fire_df)\n",
    "new_df = model.transform(fire_df)"
   ]
  },
  {
   "cell_type": "markdown",
   "metadata": {},
   "source": [
    "Note the small, but critical distinction between `sklearn`'s implementation of a transformer and PySpark's implementation. `sklearn` is more object oriented and Spark is more functional oriented."
   ]
  },
  {
   "cell_type": "code",
   "execution_count": 30,
   "metadata": {},
   "outputs": [
    {
     "data": {
      "text/plain": [
       "pyspark.ml.feature.StringIndexer"
      ]
     },
     "execution_count": 30,
     "metadata": {},
     "output_type": "execute_result"
    }
   ],
   "source": [
    "## this is an estimator (an untrained transformer)\n",
    "type(si)"
   ]
  },
  {
   "cell_type": "code",
   "execution_count": 31,
   "metadata": {},
   "outputs": [
    {
     "data": {
      "text/plain": [
       "pyspark.ml.feature.StringIndexerModel"
      ]
     },
     "execution_count": 31,
     "metadata": {},
     "output_type": "execute_result"
    }
   ],
   "source": [
    "## this is a transformer (a trained transformer)\n",
    "type(model)"
   ]
  },
  {
   "cell_type": "code",
   "execution_count": 32,
   "metadata": {},
   "outputs": [
    {
     "data": {
      "text/plain": [
       "['aug',\n",
       " 'sep',\n",
       " 'mar',\n",
       " 'jul',\n",
       " 'feb',\n",
       " 'jun',\n",
       " 'oct',\n",
       " 'apr',\n",
       " 'dec',\n",
       " 'jan',\n",
       " 'may',\n",
       " 'nov']"
      ]
     },
     "execution_count": 32,
     "metadata": {},
     "output_type": "execute_result"
    }
   ],
   "source": [
    "model.labels"
   ]
  },
  {
   "cell_type": "code",
   "execution_count": 33,
   "metadata": {},
   "outputs": [
    {
     "data": {
      "text/plain": [
       "[Row(X=7, Y=5, month='mar', FFMC=86.2, DMC=26.2, DC=94.3, ISI=5.1, temp=8.2, RH=51, wind=6.7, rain=0.0, area=0.0, month_num=2.0),\n",
       " Row(X=7, Y=4, month='oct', FFMC=90.6, DMC=35.4, DC=669.1, ISI=6.7, temp=18.0, RH=33, wind=0.9, rain=0.0, area=0.0, month_num=6.0),\n",
       " Row(X=7, Y=4, month='oct', FFMC=90.6, DMC=43.7, DC=686.9, ISI=6.7, temp=14.6, RH=33, wind=1.3, rain=0.0, area=0.0, month_num=6.0),\n",
       " Row(X=8, Y=6, month='mar', FFMC=91.7, DMC=33.3, DC=77.5, ISI=9.0, temp=8.3, RH=97, wind=4.0, rain=0.2, area=0.0, month_num=2.0)]"
      ]
     },
     "execution_count": 33,
     "metadata": {},
     "output_type": "execute_result"
    }
   ],
   "source": [
    "new_df.head(4)"
   ]
  },
  {
   "cell_type": "markdown",
   "metadata": {},
   "source": [
    "As you can see, we have created a new column called `'month_num'` that represents the month by a number. Now that we have performed this step, we can use Spark's version of `OneHotEncoder()` - `OneHotEncoderEstimator()`. Let's make sure we have an accurate representation of the months."
   ]
  },
  {
   "cell_type": "code",
   "execution_count": 34,
   "metadata": {},
   "outputs": [
    {
     "data": {
      "text/plain": [
       "[Row(month_num=8.0),\n",
       " Row(month_num=0.0),\n",
       " Row(month_num=7.0),\n",
       " Row(month_num=1.0),\n",
       " Row(month_num=4.0),\n",
       " Row(month_num=11.0),\n",
       " Row(month_num=3.0),\n",
       " Row(month_num=2.0),\n",
       " Row(month_num=10.0),\n",
       " Row(month_num=6.0),\n",
       " Row(month_num=5.0),\n",
       " Row(month_num=9.0)]"
      ]
     },
     "execution_count": 34,
     "metadata": {},
     "output_type": "execute_result"
    }
   ],
   "source": [
    "new_df.select('month_num').distinct().collect()"
   ]
  },
  {
   "cell_type": "code",
   "execution_count": 35,
   "metadata": {},
   "outputs": [
    {
     "data": {
      "text/plain": [
       "Row(X=7, Y=5, month='mar', FFMC=86.2, DMC=26.2, DC=94.3, ISI=5.1, temp=8.2, RH=51, wind=6.7, rain=0.0, area=0.0, month_num=2.0, month_vec=SparseVector(11, {2: 1.0}))"
      ]
     },
     "execution_count": 35,
     "metadata": {},
     "output_type": "execute_result"
    }
   ],
   "source": [
    "## fitting and transforming the OneHotEncoder\n",
    "ohe = feature.OneHotEncoder(inputCols=['month_num'], outputCols=['month_vec'], dropLast=True)\n",
    "one_hot_encoded = ohe.fit(new_df).transform(new_df)\n",
    "one_hot_encoded.head()"
   ]
  },
  {
   "cell_type": "markdown",
   "metadata": {},
   "source": [
    "Great, we now have a OneHotEncoded sparse vector in the `'month_vec'` column! Because Spark is optimized for big data, sparse vectors are used rather than entirely new columns for dummy variables because it is more space efficient. You can see in this first row of the DataFrame:  \n",
    "\n",
    "`month_vec=SparseVector(11, {2: 1.0})` this indicates that we have a sparse vector of size 11 (because of the parameter `dropLast = True` in `OneHotEncoderEstimator()`) and this particular data point is the 2nd index of our month labels (march, based off the labels in the `model` StringEstimator transformer).  \n",
    "\n",
    "The final requirement for all machine learning models in PySpark is to put all of the features of your model into one sparse vector. This is once again for efficiency sake. Here, we are doing that with the `VectorAssembler()` estimator."
   ]
  },
  {
   "cell_type": "code",
   "execution_count": 36,
   "metadata": {},
   "outputs": [],
   "source": [
    "features = ['X',\n",
    " 'Y',\n",
    " 'FFMC',\n",
    " 'DMC',\n",
    " 'DC',\n",
    " 'ISI',\n",
    " 'temp',\n",
    " 'RH',\n",
    " 'wind',\n",
    " 'rain',\n",
    " 'month_vec']\n",
    "\n",
    "target = 'area'\n",
    "\n",
    "vector = VectorAssembler(inputCols=features, outputCol='features')\n",
    "vectorized_df = vector.transform(one_hot_encoded)"
   ]
  },
  {
   "cell_type": "code",
   "execution_count": 37,
   "metadata": {},
   "outputs": [
    {
     "data": {
      "text/plain": [
       "Row(X=7, Y=5, month='mar', FFMC=86.2, DMC=26.2, DC=94.3, ISI=5.1, temp=8.2, RH=51, wind=6.7, rain=0.0, area=0.0, month_num=2.0, month_vec=SparseVector(11, {2: 1.0}), features=SparseVector(21, {0: 7.0, 1: 5.0, 2: 86.2, 3: 26.2, 4: 94.3, 5: 5.1, 6: 8.2, 7: 51.0, 8: 6.7, 12: 1.0}))"
      ]
     },
     "execution_count": 37,
     "metadata": {},
     "output_type": "execute_result"
    }
   ],
   "source": [
    "vectorized_df.head()"
   ]
  },
  {
   "cell_type": "markdown",
   "metadata": {},
   "source": [
    "Great! We now have our data in a format that seems acceptable for the last step. It's time for us to actually fit our model to data! Let's fit a Random Forest Regression model to our data. Although there are still a bunch of other features in the DataFrame, it doesn't matter for the machine learning model API. All that needs to be specified are the names of the features column and the label column. "
   ]
  },
  {
   "cell_type": "code",
   "execution_count": 38,
   "metadata": {},
   "outputs": [],
   "source": [
    "## instantiating and fitting the model\n",
    "rf_model = RandomForestRegressor(featuresCol='features', \n",
    "                                 labelCol='area', predictionCol='prediction').fit(vectorized_df)"
   ]
  },
  {
   "cell_type": "code",
   "execution_count": 39,
   "metadata": {},
   "outputs": [
    {
     "data": {
      "text/plain": [
       "SparseVector(21, {0: 0.1258, 1: 0.0589, 2: 0.1742, 3: 0.0629, 4: 0.0899, 5: 0.0901, 6: 0.1063, 7: 0.0619, 8: 0.1829, 9: 0.0, 10: 0.0257, 11: 0.0087, 12: 0.0, 13: 0.0107, 14: 0.0001, 15: 0.0, 16: 0.0012, 17: 0.0001, 18: 0.0001, 20: 0.0005})"
      ]
     },
     "execution_count": 39,
     "metadata": {},
     "output_type": "execute_result"
    }
   ],
   "source": [
    "rf_model.featureImportances"
   ]
  },
  {
   "cell_type": "code",
   "execution_count": 40,
   "metadata": {},
   "outputs": [
    {
     "data": {
      "text/plain": [
       "[Row(area=0.0, prediction=6.335815280187216),\n",
       " Row(area=0.0, prediction=4.929743262639448),\n",
       " Row(area=0.0, prediction=5.230694191571627),\n",
       " Row(area=0.0, prediction=6.455344925296568),\n",
       " Row(area=0.0, prediction=6.799922628807233),\n",
       " Row(area=0.0, prediction=9.43935543178101),\n",
       " Row(area=0.0, prediction=5.626010620629182),\n",
       " Row(area=0.0, prediction=7.043124815587729),\n",
       " Row(area=0.0, prediction=17.05754704071541),\n",
       " Row(area=0.0, prediction=7.065386308235956)]"
      ]
     },
     "execution_count": 40,
     "metadata": {},
     "output_type": "execute_result"
    }
   ],
   "source": [
    "## generating predictions\n",
    "predictions = rf_model.transform(vectorized_df).select('area', 'prediction')\n",
    "predictions.head(10)"
   ]
  },
  {
   "cell_type": "markdown",
   "metadata": {},
   "source": [
    "Now we can evaluate how well the model performed using `RegressionEvaluator`."
   ]
  },
  {
   "cell_type": "code",
   "execution_count": 41,
   "metadata": {},
   "outputs": [],
   "source": [
    "from pyspark.ml.evaluation import RegressionEvaluator\n",
    "evaluator = RegressionEvaluator(predictionCol='prediction', labelCol='area')"
   ]
  },
  {
   "cell_type": "code",
   "execution_count": 42,
   "metadata": {},
   "outputs": [
    {
     "data": {
      "text/plain": [
       "0.6916432337461556"
      ]
     },
     "execution_count": 42,
     "metadata": {},
     "output_type": "execute_result"
    }
   ],
   "source": [
    "## evaluating r^2\n",
    "evaluator.evaluate(predictions,{evaluator.metricName: 'r2'})"
   ]
  },
  {
   "cell_type": "code",
   "execution_count": 43,
   "metadata": {},
   "outputs": [
    {
     "data": {
      "text/plain": [
       "14.140488874925751"
      ]
     },
     "execution_count": 43,
     "metadata": {},
     "output_type": "execute_result"
    }
   ],
   "source": [
    "## evaluating mean absolute error\n",
    "evaluator.evaluate(predictions,{evaluator.metricName: 'mae'})"
   ]
  },
  {
   "cell_type": "markdown",
   "metadata": {},
   "source": [
    "## Putting it all in a Pipeline\n",
    "\n",
    "We just performed a whole lot of transformations to our data. Let's take a look at all the estimators we used to create this model:\n",
    "\n",
    "* `StringIndexer()` \n",
    "* `OneHotEnconderEstimator()` \n",
    "* `VectorAssembler()` \n",
    "* `RandomForestRegressor()` \n",
    "\n",
    "Once we've fit our model in the Pipeline, we're then going to want to evaluate it to determine how well it performs. We can do this with:\n",
    "\n",
    "* `RegressionEvaluator()` \n",
    "\n",
    "We can streamline all of these transformations to make it much more efficient by chaining them together in a pipeline. The Pipeline object expects a list of the estimators prior set to the parameter `stages`."
   ]
  },
  {
   "cell_type": "code",
   "execution_count": 44,
   "metadata": {},
   "outputs": [],
   "source": [
    "# importing relevant libraries\n",
    "from pyspark.ml.tuning import ParamGridBuilder, TrainValidationSplit, CrossValidator\n",
    "from pyspark.ml import Pipeline"
   ]
  },
  {
   "cell_type": "code",
   "execution_count": 45,
   "metadata": {},
   "outputs": [],
   "source": [
    "## instantiating all necessary estimator objects\n",
    "\n",
    "string_indexer = StringIndexer(inputCol='month', outputCol='month_num', handleInvalid='keep')\n",
    "one_hot_encoder = OneHotEncoder(inputCols=['month_num'], outputCols=['month_vec'], dropLast=True)\n",
    "vector_assember = VectorAssembler(inputCols=features, outputCol='features')\n",
    "random_forest = RandomForestRegressor(featuresCol='features', labelCol='area')\n",
    "stages = [string_indexer, one_hot_encoder, vector_assember, random_forest]\n",
    "\n",
    "# instantiating the pipeline with all them estimator objects\n",
    "pipeline = Pipeline(stages=stages)"
   ]
  },
  {
   "cell_type": "markdown",
   "metadata": {},
   "source": [
    "### Cross-validation \n",
    "\n",
    "You might have missed a critical step in the random forest regression above; we did not cross validate or perform a train/test split! Now we're going to fix that by performing cross-validation and also testing out multiple different combinations of parameters in PySpark's `GridSearch()` equivalent. To begin with, we will create a parameter grid that contains the different parameters we want to use in our model."
   ]
  },
  {
   "cell_type": "code",
   "execution_count": 47,
   "metadata": {},
   "outputs": [],
   "source": [
    "# creating parameter grid\n",
    "\n",
    "params = ParamGridBuilder().addGrid(random_forest.maxDepth,\n",
    "                                    [5, 10, 15]).addGrid(random_forest.numTrees,\n",
    "                                                         [20 ,50, 100]).build()"
   ]
  },
  {
   "cell_type": "markdown",
   "metadata": {},
   "source": [
    "Let's take a look at the params variable we just built."
   ]
  },
  {
   "cell_type": "code",
   "execution_count": 48,
   "metadata": {},
   "outputs": [
    {
     "name": "stdout",
     "output_type": "stream",
     "text": [
      "total combinations of parameters:  9\n"
     ]
    },
    {
     "data": {
      "text/plain": [
       "{Param(parent='RandomForestRegressor_8d0af09761d0', name='maxDepth', doc='Maximum depth of the tree. (>= 0) E.g., depth 0 means 1 leaf node; depth 1 means 1 internal node + 2 leaf nodes.'): 5,\n",
       " Param(parent='RandomForestRegressor_8d0af09761d0', name='numTrees', doc='Number of trees to train (>= 1).'): 20}"
      ]
     },
     "execution_count": 48,
     "metadata": {},
     "output_type": "execute_result"
    }
   ],
   "source": [
    "print('total combinations of parameters: ', len(params))\n",
    "\n",
    "params[0]"
   ]
  },
  {
   "cell_type": "markdown",
   "metadata": {},
   "source": [
    "Now it's time to combine all the steps we've created to work in a single line of code with the `CrossValidator()` estimator."
   ]
  },
  {
   "cell_type": "code",
   "execution_count": 49,
   "metadata": {},
   "outputs": [],
   "source": [
    "## instantiating the evaluator by which we will measure our model's performance\n",
    "reg_evaluator = RegressionEvaluator(predictionCol='prediction', labelCol='area', metricName = 'mae')\n",
    "\n",
    "## instantiating crossvalidator estimator\n",
    "cv = CrossValidator(estimator=pipeline, estimatorParamMaps=params, evaluator=reg_evaluator, parallelism=4)"
   ]
  },
  {
   "cell_type": "code",
   "execution_count": 50,
   "metadata": {},
   "outputs": [],
   "source": [
    "## fitting crossvalidator\n",
    "cross_validated_model = cv.fit(fire_df)"
   ]
  },
  {
   "cell_type": "markdown",
   "metadata": {},
   "source": [
    "Now, let's see how well the model performed! Let's take a look at the average performance for each one of our 9 models. It looks like the optimal performance is an MAE around 23. Note that this is worse than our original model, but that's because our original model had substantial data leakage. We didn't do a train-test split!"
   ]
  },
  {
   "cell_type": "code",
   "execution_count": 51,
   "metadata": {
    "scrolled": true
   },
   "outputs": [
    {
     "data": {
      "text/plain": [
       "[20.940587035346844,\n",
       " 21.720017118948096,\n",
       " 21.904301004706376,\n",
       " 22.15651400721459,\n",
       " 22.755636654335138,\n",
       " 22.683933226396878,\n",
       " 22.29301127266365,\n",
       " 22.831348669328666,\n",
       " 22.768612162769394]"
      ]
     },
     "execution_count": 51,
     "metadata": {},
     "output_type": "execute_result"
    }
   ],
   "source": [
    "cross_validated_model.avgMetrics"
   ]
  },
  {
   "cell_type": "markdown",
   "metadata": {},
   "source": [
    "Now, let's take a look at the optimal parameters of our best performing model. The `cross_validated_model` variable is now saved as the best performing model from the grid search just performed. Let's look to see how well the predictions performed. As you can see, this dataset has a large number of areas of \"0.0\" burned. Perhaps, it would be better to investigate this problem as a classification task."
   ]
  },
  {
   "cell_type": "code",
   "execution_count": 52,
   "metadata": {},
   "outputs": [
    {
     "name": "stdout",
     "output_type": "stream",
     "text": [
      "+------------------+-------+\n",
      "|        prediction|   area|\n",
      "+------------------+-------+\n",
      "|6.5212475793116935|    0.0|\n",
      "| 4.397844551794994|    0.0|\n",
      "| 4.451319930638392|    0.0|\n",
      "| 6.300058801234845|    0.0|\n",
      "| 4.731985208853117|    0.0|\n",
      "| 6.922689849690069|    0.0|\n",
      "|4.3810031126955336|    0.0|\n",
      "|11.360754039245533|    0.0|\n",
      "| 6.450278145393085|    0.0|\n",
      "| 6.636068625320557|    0.0|\n",
      "|  7.54212671333817|    0.0|\n",
      "| 7.342432750831039|    0.0|\n",
      "| 6.939533460117839|    0.0|\n",
      "|13.297276759980766|    0.0|\n",
      "| 83.79553952259849|    0.0|\n",
      "| 7.418523851290528|    0.0|\n",
      "| 5.027196530753299|    0.0|\n",
      "|4.6808262619231815|    0.0|\n",
      "| 5.156482198650811|    0.0|\n",
      "| 4.933180550168837|    0.0|\n",
      "| 12.38695059822827|    0.0|\n",
      "| 5.126466784029841|    0.0|\n",
      "| 5.176637757341108|    0.0|\n",
      "| 8.915322418284052|    0.0|\n",
      "|   7.1147846107985|    0.0|\n",
      "| 5.676644429751935|    0.0|\n",
      "|10.527203411581848|    0.0|\n",
      "| 9.538964530175395|    0.0|\n",
      "| 8.724592781970001|    0.0|\n",
      "|10.047202847955317|    0.0|\n",
      "| 58.85542700678057|    0.0|\n",
      "| 7.062280008854069|    0.0|\n",
      "| 5.626572026961912|    0.0|\n",
      "| 7.015102701002611|    0.0|\n",
      "| 4.927970209176124|    0.0|\n",
      "|6.7690895359997345|    0.0|\n",
      "|  5.44384350883462|    0.0|\n",
      "| 5.320761060317414|    0.0|\n",
      "| 5.700986435612755|    0.0|\n",
      "|4.8312916612799475|    0.0|\n",
      "|29.301806927314225|    0.0|\n",
      "| 4.027876827683334|    0.0|\n",
      "| 5.275291233898057|    0.0|\n",
      "| 6.558097493935003|    0.0|\n",
      "| 6.532692612990571|    0.0|\n",
      "|108.51705476188263|    0.0|\n",
      "|6.6689927024684055|    0.0|\n",
      "| 7.302829193030314|    0.0|\n",
      "| 4.599221569606915|    0.0|\n",
      "| 6.318994868706065|    0.0|\n",
      "|11.446760338196752|    0.0|\n",
      "| 4.704227676392071|    0.0|\n",
      "|3.6099879493715457|    0.0|\n",
      "|3.6099879493715457|    0.0|\n",
      "| 5.794485616356845|    0.0|\n",
      "| 7.597202211064298|    0.0|\n",
      "|6.7690895359997345|    0.0|\n",
      "| 6.006732443731837|    0.0|\n",
      "|15.929656364485254|    0.0|\n",
      "|    4.243195324676|    0.0|\n",
      "|3.5965865615563546|    0.0|\n",
      "| 4.182606411489994|    0.0|\n",
      "| 4.516675036076274|    0.0|\n",
      "| 4.621344067699328|    0.0|\n",
      "| 5.709675870798722|    0.0|\n",
      "| 5.613535812822364|    0.0|\n",
      "|6.7770064580615585|    0.0|\n",
      "| 7.080918861536462|    0.0|\n",
      "|7.2433155418561865|    0.0|\n",
      "|3.6940579347660405|    0.0|\n",
      "|3.8306724739663225|    0.0|\n",
      "| 5.793040391491072|    0.0|\n",
      "| 4.231424679577271|    0.0|\n",
      "| 4.685075440514451|    0.0|\n",
      "|6.1784489930817825|    0.0|\n",
      "| 5.623072185179136|    0.0|\n",
      "| 9.020877540421711|    0.0|\n",
      "| 7.270521654329251|    0.0|\n",
      "| 6.332435140347702|    0.0|\n",
      "|10.300763327403923|    0.0|\n",
      "| 8.213997510547411|    0.0|\n",
      "| 5.065033291442893|    0.0|\n",
      "| 3.843518813127075|    0.0|\n",
      "|5.5526978984014566|    0.0|\n",
      "| 6.431837572529986|    0.0|\n",
      "| 13.07419687378382|    0.0|\n",
      "|58.466360367181515|    0.0|\n",
      "|15.493554787525943|    0.0|\n",
      "|15.229152932855362|    0.0|\n",
      "| 4.120281183074985|    0.0|\n",
      "| 5.293358579511956|    0.0|\n",
      "| 5.153886855877084|    0.0|\n",
      "| 8.118904389386998|    0.0|\n",
      "|12.864181478287506|    0.0|\n",
      "| 6.467830792002763|    0.0|\n",
      "| 5.335407019341554|    0.0|\n",
      "|4.5334132163237415|    0.0|\n",
      "|5.4311687498194985|    0.0|\n",
      "| 5.105856294439534|    0.0|\n",
      "| 5.397367560454204|    0.0|\n",
      "| 5.397367560454204|    0.0|\n",
      "| 4.463444288342069|    0.0|\n",
      "|  4.15032795113013|    0.0|\n",
      "|10.258566045339341|    0.0|\n",
      "| 6.172681824623021|    0.0|\n",
      "| 5.960036516899351|    0.0|\n",
      "| 5.033403612906354|    0.0|\n",
      "| 4.841371132430401|    0.0|\n",
      "|6.5337472751266334|    0.0|\n",
      "| 5.439894790944354|    0.0|\n",
      "| 6.318994868706065|    0.0|\n",
      "| 4.019888913882493|    0.0|\n",
      "| 6.838191677630405|    0.0|\n",
      "| 4.939588924552717|    0.0|\n",
      "| 5.428292113304637|    0.0|\n",
      "|4.9079974704474925|    0.0|\n",
      "| 5.667173283953999|    0.0|\n",
      "| 5.453970340277108|    0.0|\n",
      "|  4.94135974967122|    0.0|\n",
      "| 6.137144745733245|    0.0|\n",
      "| 4.993741134414807|    0.0|\n",
      "| 5.130663779933653|    0.0|\n",
      "| 8.331400899607805|    0.0|\n",
      "| 7.030671747465538|    0.0|\n",
      "| 6.133951859031291|    0.0|\n",
      "| 7.607970505607004|    0.0|\n",
      "| 5.337693050168836|    0.0|\n",
      "| 9.706133937687667|    0.0|\n",
      "|5.5142437870354915|    0.0|\n",
      "| 9.435380720176044|    0.0|\n",
      "| 4.536922256717527|    0.0|\n",
      "|4.9820718826656805|    0.0|\n",
      "| 3.987572748430368|    0.0|\n",
      "|  5.20815900537492|    0.0|\n",
      "| 4.804216293632889|    0.0|\n",
      "|6.7345854112550185|    0.0|\n",
      "|  13.7612945097058|    0.0|\n",
      "|6.6689927024684055|    0.0|\n",
      "|19.679280943682663|   0.36|\n",
      "| 9.655286152173842|   0.43|\n",
      "| 7.442529916947249|   0.47|\n",
      "| 4.664370941055727|   0.55|\n",
      "|14.416304989455327|   0.61|\n",
      "|3.5183898684634194|   0.71|\n",
      "|  5.43350088368323|   0.77|\n",
      "|27.647553477886863|    0.9|\n",
      "| 4.906105182521778|   0.95|\n",
      "|  14.3940964565441|   0.96|\n",
      "| 4.330348462810735|   1.07|\n",
      "| 46.29152522598299|   1.12|\n",
      "|11.358974220063129|   1.19|\n",
      "|14.180385938249952|   1.36|\n",
      "|10.482654219699773|   1.43|\n",
      "| 6.381659113383675|   1.46|\n",
      "|18.245012648810597|   1.46|\n",
      "| 8.630797316714734|   1.56|\n",
      "| 6.673836581191027|   1.61|\n",
      "|3.3665376140929366|   1.63|\n",
      "|3.5051271224020915|   1.64|\n",
      "|10.527203411581848|   1.69|\n",
      "|  4.94135974967122|   1.75|\n",
      "| 5.869245347675424|    1.9|\n",
      "|6.0395953643550415|   1.94|\n",
      "|21.861900290266785|   1.95|\n",
      "| 5.979698215194466|   2.01|\n",
      "|  4.89842725747358|   2.14|\n",
      "| 3.881290350595979|   2.29|\n",
      "| 5.482055927356041|   2.51|\n",
      "| 7.080601577275722|   2.53|\n",
      "| 8.585843759481955|   2.55|\n",
      "| 6.775458594029398|   2.57|\n",
      "| 7.648355299203257|   2.69|\n",
      "| 7.897378829030411|   2.74|\n",
      "| 7.822887076353642|   3.07|\n",
      "|  4.12796426794639|    3.5|\n",
      "| 4.326801283697168|   4.53|\n",
      "| 6.166366272502678|   4.61|\n",
      "| 5.903759921982615|   4.69|\n",
      "| 6.179542030677547|   4.88|\n",
      "|10.797730871249104|   5.23|\n",
      "| 7.770499616120661|   5.33|\n",
      "| 6.922672629068005|   5.44|\n",
      "| 4.703654647654458|   6.38|\n",
      "| 7.589045568178008|   6.83|\n",
      "| 7.855506822668684|   6.96|\n",
      "| 8.509669762006869|   7.04|\n",
      "| 5.395489840627793|   7.19|\n",
      "|12.638453607313263|    7.3|\n",
      "| 4.223002200324608|    7.4|\n",
      "| 5.148804273602613|   8.24|\n",
      "| 4.671856122301579|   8.31|\n",
      "|5.2771459266929375|   8.68|\n",
      "| 6.278406135066021|   8.71|\n",
      "|10.075473660618659|   9.41|\n",
      "| 6.278406135066021|  10.01|\n",
      "| 5.204984793964343|  10.02|\n",
      "| 6.166366272502678|  10.93|\n",
      "|11.007144214370463|  11.06|\n",
      "| 10.69108870189572|  11.24|\n",
      "|13.622253784937737|  11.32|\n",
      "| 9.443338557759317|  11.53|\n",
      "|5.1636722783433395|   12.1|\n",
      "| 6.476579846067158|  13.05|\n",
      "| 7.806253015173671|   13.7|\n",
      "|  6.05634914723216|  13.99|\n",
      "| 6.398842470203109|  14.57|\n",
      "|6.6422853952320295|  15.45|\n",
      "| 10.10216171042682|   17.2|\n",
      "| 9.819983138677365|  19.23|\n",
      "| 47.30945984797778|  23.41|\n",
      "|  6.96361519200031|  24.23|\n",
      "| 7.563886617243837|   26.0|\n",
      "| 6.556576728591049|  26.13|\n",
      "| 7.124188658391136|  27.35|\n",
      "| 5.453970340277108|  28.66|\n",
      "| 5.453970340277108|  28.66|\n",
      "|13.192575579146851|  29.48|\n",
      "|13.369670662307982|  30.32|\n",
      "|12.646015642941892|  31.72|\n",
      "| 5.915924258148082|  31.86|\n",
      "| 7.932625380199849|  32.07|\n",
      "| 8.024432274719665|  35.88|\n",
      "| 6.562977595978792|  36.85|\n",
      "| 21.35276464491004|  37.02|\n",
      "| 6.855037371055087|  37.71|\n",
      "|11.555448764957209|  48.55|\n",
      "| 9.452709619082897|  49.37|\n",
      "|17.222006120446284|   58.3|\n",
      "| 37.34827472968499|   64.1|\n",
      "|13.288394034619396|   71.3|\n",
      "|27.030712202894364|  88.49|\n",
      "| 38.64485287316959|  95.18|\n",
      "|14.552147776075994| 103.39|\n",
      "|46.873632599694226| 105.66|\n",
      "|152.75017998773305| 154.88|\n",
      "| 67.65225000722863| 196.48|\n",
      "| 97.65742260520585| 200.94|\n",
      "| 71.56748662730072| 212.88|\n",
      "| 639.3087261793739|1090.84|\n",
      "| 4.591543644558717|    0.0|\n",
      "| 5.040521095857418|    0.0|\n",
      "|10.261980186252808|    0.0|\n",
      "| 5.396087786608266|  10.13|\n",
      "| 20.17141503713015|    0.0|\n",
      "| 5.658283418371456|   2.87|\n",
      "|11.133324668266486|   0.76|\n",
      "| 8.260895004299451|   0.09|\n",
      "|3.3534618043481537|   0.75|\n",
      "|13.059804919214006|    0.0|\n",
      "| 5.146963184504681|   2.47|\n",
      "| 9.644099602875608|   0.68|\n",
      "| 6.371541733036858|   0.24|\n",
      "| 5.474820023000099|   0.21|\n",
      "| 4.372256345862431|   1.52|\n",
      "|7.0725884736125595|  10.34|\n",
      "| 11.78605359951722|    0.0|\n",
      "| 7.481615795407151|   8.02|\n",
      "| 5.775817383854686|   0.68|\n",
      "|4.8704348971151505|    0.0|\n",
      "| 4.829776624743331|   1.38|\n",
      "| 5.674001223125784|   8.85|\n",
      "|  5.07208705092574|    3.3|\n",
      "|3.5051271224020915|   4.25|\n",
      "| 5.923514002020327|   1.56|\n",
      "| 5.418073816277407|   6.54|\n",
      "| 7.406142247411196|   0.79|\n",
      "|  5.80514227548663|   0.17|\n",
      "| 8.946371610130678|    0.0|\n",
      "| 5.873031473454917|    0.0|\n",
      "| 5.984206582709018|    4.4|\n",
      "| 5.868046227642326|   0.52|\n",
      "|13.784665819168996|   9.27|\n",
      "| 5.377742199493584|   3.09|\n",
      "| 8.375545095520625|   8.98|\n",
      "| 8.191429903466894|  11.19|\n",
      "|7.4478392432854905|   5.38|\n",
      "| 12.10455243389814|  17.85|\n",
      "| 12.10455243389814|  10.73|\n",
      "| 12.10455243389814|  22.03|\n",
      "| 12.10455243389814|   9.77|\n",
      "| 6.672839243285489|   9.27|\n",
      "|14.031659576755285|  24.77|\n",
      "| 5.299903279945108|    0.0|\n",
      "| 5.374934262034303|    1.1|\n",
      "| 5.757757179219175|  24.24|\n",
      "|14.035916225429403|    0.0|\n",
      "| 21.62619876580446|    0.0|\n",
      "| 17.33249511391207|    0.0|\n",
      "| 3.449916858973733|    0.0|\n",
      "|7.1822980595952455|    0.0|\n",
      "|3.2321593478399984|    0.0|\n",
      "| 8.799826711522789|    8.0|\n",
      "| 4.353777459090144|   2.64|\n",
      "| 39.27780835148751|  86.45|\n",
      "| 6.335438954016492|   6.57|\n",
      "|19.073764689906465|    0.0|\n",
      "| 4.626296937253974|    0.9|\n",
      "| 4.148306939621786|    0.0|\n",
      "|17.107086541306213|    0.0|\n",
      "| 5.767368727202735|    0.0|\n",
      "+------------------+-------+\n",
      "only showing top 300 rows\n",
      "\n"
     ]
    }
   ],
   "source": [
    "predictions = cross_validated_model.transform(spark_df)\n",
    "predictions.select('prediction', 'area').show(300)"
   ]
  },
  {
   "cell_type": "markdown",
   "metadata": {},
   "source": [
    "Now let's go ahead and take a look at the feature importances of our random forest model. In order to do this, we need to unroll our pipeline to access the random forest model. Let's start by first checking out the `.bestModel` attribute of our `cross_validated_model`. "
   ]
  },
  {
   "cell_type": "code",
   "execution_count": 53,
   "metadata": {
    "slideshow": {
     "slide_type": "slide"
    }
   },
   "outputs": [
    {
     "data": {
      "text/plain": [
       "pyspark.ml.pipeline.PipelineModel"
      ]
     },
     "execution_count": 53,
     "metadata": {},
     "output_type": "execute_result"
    }
   ],
   "source": [
    "type(cross_validated_model.bestModel)"
   ]
  },
  {
   "cell_type": "markdown",
   "metadata": {},
   "source": [
    "`ml` is treating the entire pipeline as the best performing model, so we need to go deeper into the pipeline to access the random forest model within it. Previously, we put the random forest model as the final \"stage\" in the stages variable list. Let's look at the `.stages` attribute of the `.bestModel`."
   ]
  },
  {
   "cell_type": "code",
   "execution_count": 54,
   "metadata": {},
   "outputs": [
    {
     "data": {
      "text/plain": [
       "[StringIndexerModel: uid=StringIndexer_f2ade1cc7056, handleInvalid=keep,\n",
       " OneHotEncoderModel: uid=OneHotEncoder_cca7f7da6eee, dropLast=true, handleInvalid=error, numInputCols=1, numOutputCols=1,\n",
       " VectorAssembler_fc1b10ea2d56,\n",
       " RandomForestRegressionModel: uid=RandomForestRegressor_8d0af09761d0, numTrees=20, numFeatures=22]"
      ]
     },
     "execution_count": 54,
     "metadata": {},
     "output_type": "execute_result"
    }
   ],
   "source": [
    "cross_validated_model.bestModel.stages"
   ]
  },
  {
   "cell_type": "markdown",
   "metadata": {},
   "source": [
    "Perfect! There's the RandomForestRegressionModel, represented by the last item in the stages list. Now, we should be able to access all the attributes of the random forest regressor."
   ]
  },
  {
   "cell_type": "code",
   "execution_count": 55,
   "metadata": {},
   "outputs": [],
   "source": [
    "optimal_rf_model = cross_validated_model.bestModel.stages[3]"
   ]
  },
  {
   "cell_type": "code",
   "execution_count": 56,
   "metadata": {},
   "outputs": [
    {
     "data": {
      "text/plain": [
       "SparseVector(22, {0: 0.0625, 1: 0.0431, 2: 0.1684, 3: 0.1557, 4: 0.0443, 5: 0.1387, 6: 0.1517, 7: 0.132, 8: 0.0511, 10: 0.0381, 11: 0.0085, 12: 0.0001, 13: 0.0052, 14: 0.0, 17: 0.0, 18: 0.0001, 20: 0.0003})"
      ]
     },
     "execution_count": 56,
     "metadata": {},
     "output_type": "execute_result"
    }
   ],
   "source": [
    "optimal_rf_model.featureImportances"
   ]
  },
  {
   "cell_type": "code",
   "execution_count": 57,
   "metadata": {},
   "outputs": [
    {
     "data": {
      "text/plain": [
       "20"
      ]
     },
     "execution_count": 57,
     "metadata": {},
     "output_type": "execute_result"
    }
   ],
   "source": [
    "optimal_rf_model.getNumTrees"
   ]
  },
  {
   "cell_type": "markdown",
   "metadata": {},
   "source": [
    "## Summary\n",
    "\n",
    "In this lesson, you learned about PySpark's DataFrames, machine learning models, and pipelines. With the use of a pipeline, you can train a huge number of models simultaneously, saving you a substantial amount of time and effort. Up next, you will have a chance to build a PySpark machine learning pipeline of your own with a classification problem!"
   ]
  }
 ],
 "metadata": {
  "kernelspec": {
   "display_name": "Python 3",
   "language": "python",
   "name": "python3"
  },
  "language_info": {
   "codemirror_mode": {
    "name": "ipython",
    "version": 3
   },
   "file_extension": ".py",
   "mimetype": "text/x-python",
   "name": "python",
   "nbconvert_exporter": "python",
   "pygments_lexer": "ipython3",
   "version": "3.8.6"
  }
 },
 "nbformat": 4,
 "nbformat_minor": 2
}
